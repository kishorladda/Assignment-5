{
 "cells": [
  {
   "cell_type": "markdown",
   "id": "3cf111ba-2e64-4faa-8a19-42b25722c6f1",
   "metadata": {},
   "source": [
    "Q1. Create a python program to sort the given list of tuples based on integer value using a\n",
    "    lambda function.\n",
    "    [('Sachin Tendulkar', 34357), ('Ricky Ponting', 27483), ('Jack Kallis', 25534), ('Virat Kohli', 24936)]"
   ]
  },
  {
   "cell_type": "code",
   "execution_count": 3,
   "id": "a77dff2a-beb1-4474-8460-ff49049bcf85",
   "metadata": {},
   "outputs": [],
   "source": [
    "l1 = [('Sachin Tendulkar', 34357), ('Ricky Ponting', 27483), ('Jack Kallis', 25534), ('Virat Kohli', 24936)]"
   ]
  },
  {
   "cell_type": "code",
   "execution_count": 28,
   "id": "b771ae6c-2a0d-429e-a49b-f42a7f51db05",
   "metadata": {},
   "outputs": [],
   "source": [
    "def sort(l1) :\n",
    "    for i in l1:\n",
    "        for j in range(0,len(i)):\n",
    "            if type(i[j])==int:\n",
    "                print(i[j])"
   ]
  },
  {
   "cell_type": "code",
   "execution_count": 30,
   "id": "0a7192ac-817c-43a0-b5a8-460c3b188bc1",
   "metadata": {},
   "outputs": [],
   "source": [
    "word = lambda x : sort(l1)"
   ]
  },
  {
   "cell_type": "code",
   "execution_count": 31,
   "id": "114094ad-c6bb-48cc-a0f4-4861fbbb7eb8",
   "metadata": {},
   "outputs": [
    {
     "name": "stdout",
     "output_type": "stream",
     "text": [
      "34357\n",
      "27483\n",
      "25534\n",
      "24936\n"
     ]
    }
   ],
   "source": [
    "word(l1)"
   ]
  },
  {
   "cell_type": "markdown",
   "id": "08c71d0e-f619-48e8-bd6c-baa4b8888dad",
   "metadata": {},
   "source": [
    "Q2. Write a Python Program to find the squares of all the numbers in the given list of integers using\n",
    "    lambda and map functions.\n",
    "    [1, 2, 3, 4, 5, 6, 7, 8, 9, 10]"
   ]
  },
  {
   "cell_type": "code",
   "execution_count": 93,
   "id": "7d4e06de-e64a-4c65-9a72-c6ae363d5b30",
   "metadata": {},
   "outputs": [],
   "source": [
    "l = [1, 2, 3, 4, 5, 6, 7, 8, 9, 10]\n",
    "square = lambda x : x**2"
   ]
  },
  {
   "cell_type": "code",
   "execution_count": 95,
   "id": "ff40e794-dc0b-426f-ac8c-c76d8afbdfd7",
   "metadata": {},
   "outputs": [
    {
     "data": {
      "text/plain": [
       "[1, 4, 9, 16, 25, 36, 49, 64, 81, 100]"
      ]
     },
     "execution_count": 95,
     "metadata": {},
     "output_type": "execute_result"
    }
   ],
   "source": [
    "list(map(square , l))"
   ]
  },
  {
   "cell_type": "markdown",
   "id": "a1a82f25-d777-45dd-8a41-9a9b304547cd",
   "metadata": {},
   "source": [
    "Q3. Write a python program to convert the given list of integers into a tuple of strings. Use map and\n",
    "    lambda functions\n",
    "    Given String: [1, 2, 3, 4, 5, 6, 7, 8, 9, 10]\n",
    "    Expected output: ('1', '2', '3', '4', '5', '6', '7', '8', '9', '10')"
   ]
  },
  {
   "cell_type": "code",
   "execution_count": 97,
   "id": "c5715b24-d98b-4ba0-ac27-2b9e437c3c9b",
   "metadata": {},
   "outputs": [],
   "source": [
    "l = [1, 2, 3, 4, 5, 6, 7, 8, 9, 10]"
   ]
  },
  {
   "cell_type": "code",
   "execution_count": 102,
   "id": "9e235281-afb0-47a3-9cbb-7cb225e8ec09",
   "metadata": {},
   "outputs": [
    {
     "data": {
      "text/plain": [
       "('1', '2', '3', '4', '5', '6', '7', '8', '9', '10')"
      ]
     },
     "execution_count": 102,
     "metadata": {},
     "output_type": "execute_result"
    }
   ],
   "source": [
    "tuple(map(lambda x :str(x),l ))"
   ]
  },
  {
   "cell_type": "markdown",
   "id": "a71909e6-a9a1-45d4-8657-457410bd8738",
   "metadata": {},
   "source": [
    "Q4. Write a python program using reduce function to compute the product of a list containing numbers\n",
    "    from 1 to 25."
   ]
  },
  {
   "cell_type": "code",
   "execution_count": 111,
   "id": "954859b0-9875-4084-a3e9-124e3128726b",
   "metadata": {},
   "outputs": [],
   "source": [
    "from functools import reduce"
   ]
  },
  {
   "cell_type": "code",
   "execution_count": 110,
   "id": "63cbab71-d7f1-442a-999e-10730e79f0e5",
   "metadata": {},
   "outputs": [],
   "source": [
    "l = list(range(1,26))\n"
   ]
  },
  {
   "cell_type": "code",
   "execution_count": 112,
   "id": "43465186-47e1-434d-8d72-f41d26dd4a5f",
   "metadata": {},
   "outputs": [
    {
     "data": {
      "text/plain": [
       "15511210043330985984000000"
      ]
     },
     "execution_count": 112,
     "metadata": {},
     "output_type": "execute_result"
    }
   ],
   "source": [
    "reduce(lambda x,y : x*y,l)"
   ]
  },
  {
   "cell_type": "markdown",
   "id": "105dd461-f7c8-40df-9683-d3e9737c3220",
   "metadata": {},
   "source": [
    "Q5. Write a python program to filter the numbers in a given list that are divisible by 2 and 3 using the\n",
    "    filter function.\n",
    "    [2, 3, 6, 9, 27, 60, 90, 120, 55, 46]"
   ]
  },
  {
   "cell_type": "code",
   "execution_count": 113,
   "id": "43b721b8-14ec-4f04-b978-f637fd645a19",
   "metadata": {},
   "outputs": [],
   "source": [
    "l =  [2, 3, 6, 9, 27, 60, 90, 120, 55, 46]"
   ]
  },
  {
   "cell_type": "code",
   "execution_count": null,
   "id": "67594476-7fa0-4db7-95dc-98ea38c3c3f5",
   "metadata": {},
   "outputs": [
    {
     "data": {
      "text/plain": [
       "[6, 60, 90, 120]"
      ]
     },
     "execution_count": 114,
     "metadata": {},
     "output_type": "execute_result"
    }
   ],
   "source": [
    "list(filter(lambda x : x%6==0 , l))"
   ]
  },
  {
   "cell_type": "markdown",
   "id": "d82f2615-9af3-4ac1-9bbc-a9ea9b6d14ca",
   "metadata": {},
   "source": [
    "Q6. Write a python program to find palindromes in the given list of strings using lambda and filter\n",
    "    function.\n",
    "    ['python', 'php', 'aba', 'radar', 'level']"
   ]
  },
  {
   "cell_type": "code",
   "execution_count": 2,
   "id": "d9c7ffd6-1a6b-40fa-b412-453968ddcde2",
   "metadata": {},
   "outputs": [],
   "source": [
    " s = ['python', 'php', 'aba', 'radar', 'level']"
   ]
  },
  {
   "cell_type": "code",
   "execution_count": 3,
   "id": "526680f3-18a1-4f11-ac9e-1eaa508a51cb",
   "metadata": {},
   "outputs": [
    {
     "data": {
      "text/plain": [
       "['php', 'aba', 'radar', 'level']"
      ]
     },
     "execution_count": 3,
     "metadata": {},
     "output_type": "execute_result"
    }
   ],
   "source": [
    "list(filter(lambda x : x==x[::-1],s))"
   ]
  },
  {
   "cell_type": "code",
   "execution_count": null,
   "id": "af2ae7e8-7550-4cd6-96b1-671c9be16eed",
   "metadata": {},
   "outputs": [],
   "source": []
  }
 ],
 "metadata": {
  "kernelspec": {
   "display_name": "Python 3 (ipykernel)",
   "language": "python",
   "name": "python3"
  },
  "language_info": {
   "codemirror_mode": {
    "name": "ipython",
    "version": 3
   },
   "file_extension": ".py",
   "mimetype": "text/x-python",
   "name": "python",
   "nbconvert_exporter": "python",
   "pygments_lexer": "ipython3",
   "version": "3.10.8"
  }
 },
 "nbformat": 4,
 "nbformat_minor": 5
}
